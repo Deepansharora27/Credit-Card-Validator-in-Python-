{
 "cells": [
  {
   "cell_type": "code",
   "execution_count": 6,
   "metadata": {},
   "outputs": [
    {
     "name": "stdout",
     "output_type": "stream",
     "text": [
      "Please enter your 16 digit credit card number 4111111111111112\n"
     ]
    }
   ],
   "source": [
    "'''\n",
    "Credit Card Validator in Python \n",
    "\n",
    "Developed by :- \n",
    "\n",
    "Name: Deepanshu Arora \n",
    "E-mail : deepansharora27@gmail.com \n",
    "'''\n",
    "\n",
    "cc=str(input('Please enter your 16 digit credit card number '))\n",
    "\n",
    "def val_cc(number):    \n",
    "    cc_rev=number[::-1]\n",
    "    total=0 \n",
    "    for i in cc_rev[1::2]:\n",
    "        x=int(i)*2 \n",
    "        if len(str(x))==2:\n",
    "            for a in str(x):\n",
    "                    total += int(a)\n",
    "        else:\n",
    "            total=total+int(x)\n",
    "            \n",
    "            \n",
    "            \n",
    "    for i in cc_rev[::2]:\n",
    "        total=total+int(i)\n",
    "        \n",
    "        \n",
    "    if total%10==0:\n",
    "        print('{} is a Valid Credit Card Number'.format(cc))\n",
    "    else:\n",
    "        print('{} is an Invalid Credit Card Number'.format(cc))\n",
    "\n",
    "\n",
    "\n",
    "\n",
    "\n",
    "\n",
    "\n",
    "\n",
    "\n",
    "\n",
    "\n",
    "            \n",
    "            \n",
    "                \n",
    "        \n",
    "            \n",
    "        "
   ]
  },
  {
   "cell_type": "code",
   "execution_count": 7,
   "metadata": {},
   "outputs": [
    {
     "name": "stdout",
     "output_type": "stream",
     "text": [
      "4111111111111112 is an Invalid Credit Card Number\n"
     ]
    }
   ],
   "source": [
    "val_cc('4111111111111112')"
   ]
  },
  {
   "cell_type": "code",
   "execution_count": 8,
   "metadata": {},
   "outputs": [
    {
     "name": "stdout",
     "output_type": "stream",
     "text": [
      "4111111111111112 is an Invalid Credit Card Number\n"
     ]
    }
   ],
   "source": [
    "val_cc('4111111111111112')"
   ]
  },
  {
   "cell_type": "code",
   "execution_count": null,
   "metadata": {},
   "outputs": [],
   "source": []
  }
 ],
 "metadata": {
  "kernelspec": {
   "display_name": "Python 3",
   "language": "python",
   "name": "python3"
  },
  "language_info": {
   "codemirror_mode": {
    "name": "ipython",
    "version": 3
   },
   "file_extension": ".py",
   "mimetype": "text/x-python",
   "name": "python",
   "nbconvert_exporter": "python",
   "pygments_lexer": "ipython3",
   "version": "3.7.1"
  }
 },
 "nbformat": 4,
 "nbformat_minor": 2
}
